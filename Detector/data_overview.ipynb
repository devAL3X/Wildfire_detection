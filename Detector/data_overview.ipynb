{
 "cells": [
  {
   "cell_type": "code",
   "execution_count": 10,
   "id": "22e94016",
   "metadata": {},
   "outputs": [],
   "source": [
    "import pandas as pd\n",
    "from PIL import Image, ImageDraw\n",
    "import cv2"
   ]
  },
  {
   "cell_type": "code",
   "execution_count": 2,
   "id": "75951358",
   "metadata": {},
   "outputs": [],
   "source": [
    "df = pd.read_csv(\"data/train/_annotations.csv\", header=None)"
   ]
  },
  {
   "cell_type": "code",
   "execution_count": 3,
   "id": "baead240",
   "metadata": {},
   "outputs": [
    {
     "data": {
      "text/html": [
       "<div>\n",
       "<style scoped>\n",
       "    .dataframe tbody tr th:only-of-type {\n",
       "        vertical-align: middle;\n",
       "    }\n",
       "\n",
       "    .dataframe tbody tr th {\n",
       "        vertical-align: top;\n",
       "    }\n",
       "\n",
       "    .dataframe thead th {\n",
       "        text-align: right;\n",
       "    }\n",
       "</style>\n",
       "<table border=\"1\" class=\"dataframe\">\n",
       "  <thead>\n",
       "    <tr style=\"text-align: right;\">\n",
       "      <th></th>\n",
       "      <th>0</th>\n",
       "      <th>1</th>\n",
       "      <th>2</th>\n",
       "      <th>3</th>\n",
       "      <th>4</th>\n",
       "      <th>5</th>\n",
       "    </tr>\n",
       "  </thead>\n",
       "  <tbody>\n",
       "    <tr>\n",
       "      <th>0</th>\n",
       "      <td>ck0knam319ybv0701clozevt3_jpeg.rf.01d252cb506d...</td>\n",
       "      <td>482</td>\n",
       "      <td>296</td>\n",
       "      <td>525</td>\n",
       "      <td>320</td>\n",
       "      <td>smoke</td>\n",
       "    </tr>\n",
       "    <tr>\n",
       "      <th>1</th>\n",
       "      <td>ck0qd8gs6ko7j0721x25cv4o3_jpeg.rf.005f5707706e...</td>\n",
       "      <td>125</td>\n",
       "      <td>190</td>\n",
       "      <td>177</td>\n",
       "      <td>286</td>\n",
       "      <td>smoke</td>\n",
       "    </tr>\n",
       "    <tr>\n",
       "      <th>2</th>\n",
       "      <td>ck0t40rhdz68s0a46ekx049a6_jpeg.rf.00403179fe5f...</td>\n",
       "      <td>326</td>\n",
       "      <td>207</td>\n",
       "      <td>494</td>\n",
       "      <td>249</td>\n",
       "      <td>smoke</td>\n",
       "    </tr>\n",
       "    <tr>\n",
       "      <th>3</th>\n",
       "      <td>ck0m0f8x4hwsq0838adn9hkti_jpeg.rf.02c20dbd46ef...</td>\n",
       "      <td>224</td>\n",
       "      <td>200</td>\n",
       "      <td>302</td>\n",
       "      <td>238</td>\n",
       "      <td>smoke</td>\n",
       "    </tr>\n",
       "    <tr>\n",
       "      <th>4</th>\n",
       "      <td>ck0na7jmkg9gj0a46p7jofg58_jpeg.rf.023825dac5dc...</td>\n",
       "      <td>96</td>\n",
       "      <td>222</td>\n",
       "      <td>238</td>\n",
       "      <td>270</td>\n",
       "      <td>smoke</td>\n",
       "    </tr>\n",
       "  </tbody>\n",
       "</table>\n",
       "</div>"
      ],
      "text/plain": [
       "                                                   0    1    2    3    4  \\\n",
       "0  ck0knam319ybv0701clozevt3_jpeg.rf.01d252cb506d...  482  296  525  320   \n",
       "1  ck0qd8gs6ko7j0721x25cv4o3_jpeg.rf.005f5707706e...  125  190  177  286   \n",
       "2  ck0t40rhdz68s0a46ekx049a6_jpeg.rf.00403179fe5f...  326  207  494  249   \n",
       "3  ck0m0f8x4hwsq0838adn9hkti_jpeg.rf.02c20dbd46ef...  224  200  302  238   \n",
       "4  ck0na7jmkg9gj0a46p7jofg58_jpeg.rf.023825dac5dc...   96  222  238  270   \n",
       "\n",
       "       5  \n",
       "0  smoke  \n",
       "1  smoke  \n",
       "2  smoke  \n",
       "3  smoke  \n",
       "4  smoke  "
      ]
     },
     "execution_count": 3,
     "metadata": {},
     "output_type": "execute_result"
    }
   ],
   "source": [
    "df.head()"
   ]
  },
  {
   "cell_type": "code",
   "execution_count": 4,
   "id": "e1f4dce9",
   "metadata": {
    "scrolled": true
   },
   "outputs": [
    {
     "data": {
      "text/plain": [
       "array(['smoke'], dtype=object)"
      ]
     },
     "execution_count": 4,
     "metadata": {},
     "output_type": "execute_result"
    }
   ],
   "source": [
    "df[5].unique()"
   ]
  },
  {
   "cell_type": "markdown",
   "id": "058c8392",
   "metadata": {},
   "source": [
    "column 5 contains only one unque value, so we can drop it"
   ]
  },
  {
   "cell_type": "code",
   "execution_count": 5,
   "id": "083aa751",
   "metadata": {},
   "outputs": [],
   "source": [
    "df.drop([5], axis=1, inplace=True)"
   ]
  },
  {
   "cell_type": "code",
   "execution_count": 40,
   "id": "d6282f26",
   "metadata": {},
   "outputs": [],
   "source": [
    "def draw_random():\n",
    "    row = df.sample().values[0]\n",
    "    img = Image.open(\"data/train/\" + row[0], mode='r')\n",
    "#     img = img.convert('RGB') # to grayscale\n",
    "    draw = ImageDraw.Draw(img)\n",
    "    coords = [row[1], row[2], row[3], row[4]]\n",
    "    draw.rectangle(coords, outline=(255, 0, 0), width=2)\n",
    "    img.show()"
   ]
  },
  {
   "cell_type": "code",
   "execution_count": 41,
   "id": "be78285c",
   "metadata": {},
   "outputs": [],
   "source": [
    "draw_random()"
   ]
  },
  {
   "cell_type": "code",
   "execution_count": null,
   "id": "1905b259",
   "metadata": {},
   "outputs": [],
   "source": []
  }
 ],
 "metadata": {
  "kernelspec": {
   "display_name": "Python 3",
   "language": "python",
   "name": "python3"
  },
  "language_info": {
   "codemirror_mode": {
    "name": "ipython",
    "version": 3
   },
   "file_extension": ".py",
   "mimetype": "text/x-python",
   "name": "python",
   "nbconvert_exporter": "python",
   "pygments_lexer": "ipython3",
   "version": "3.9.7"
  }
 },
 "nbformat": 4,
 "nbformat_minor": 5
}
